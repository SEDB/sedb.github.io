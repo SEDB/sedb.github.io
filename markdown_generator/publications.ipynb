{
 "cells": [
  {
   "cell_type": "markdown",
   "metadata": {},
   "source": [
    "# Publications markdown generator for academicpages\n",
    "\n",
    "Takes a TSV of publications with metadata and converts them for use with [academicpages.github.io](academicpages.github.io). This is an interactive Jupyter notebook ([see more info here](http://jupyter-notebook-beginner-guide.readthedocs.io/en/latest/what_is_jupyter.html)). The core python code is also in `publications.py`. Run either from the `markdown_generator` folder after replacing `publications.tsv` with one containing your data.\n",
    "\n",
    "TODO: Make this work with BibTex and other databases of citations, rather than Stuart's non-standard TSV format and citation style.\n"
   ]
  },
  {
   "cell_type": "markdown",
   "metadata": {},
   "source": [
    "## Data format\n",
    "\n",
    "The TSV needs to have the following columns: pub_date, title, venue, excerpt, citation, site_url, and paper_url, with a header at the top. \n",
    "\n",
    "- `excerpt` and `paper_url` can be blank, but the others must have values. \n",
    "- `pub_date` must be formatted as YYYY-MM-DD.\n",
    "- `url_slug` will be the descriptive part of the .md file and the permalink URL for the page about the paper. The .md file will be `YYYY-MM-DD-[url_slug].md` and the permalink will be `https://[yourdomain]/publications/YYYY-MM-DD-[url_slug]`\n",
    "\n",
    "This is how the raw file looks (it doesn't look pretty, use a spreadsheet or other program to edit and create)."
   ]
  },
  {
   "cell_type": "code",
   "execution_count": 1,
   "metadata": {},
   "outputs": [
    {
     "name": "stdout",
     "output_type": "stream",
     "text": [
      "pub_date\ttitle\tvenue\texcerpt\tcitation\turl_slug\tpaper_url\r\n",
      "2016-09-01\tEvaluating Different Strategies for Reduction of Mutation Testing Costs\t1st Brazilian Symposium on Systematic and Automated Software Testing (SAST)\tMutation testing presents high efficacy in terms of revealed faults, but with high computational costs, because test cases must be executed against a great number of mutants. To reduce such costs several strategies exist. In general, they select a reduced number of mutants that maintain a great overall mutation score. Recently, Higher-Order Mutation Testing (HOM) was proposed. HOM introduces more than one fault at a time in the mutants such that they are harder to kill. This kind of testing can also be used as a cost reduction strategy. However, few works in literature evaluate the cost reduction potential of HOM or compare it to other existing strategies. In this work, we evaluate HOM as a mutation testing cost reduction strategy. We conducted an experiment to compare four HOM-based strategies (First to Last, Random Mix, Different Operators, and Each-Choice) and three conventional ones (Random Mutant Selection, Selective Mutation, and Search-Based Mutation by using Genetic Algorithm). The analysis considers the number of selected mutants, number of test cases, mutation score and efficiency measures. Selective Mutation presented the best results overall. Among the HOM-based strategies, Each-Choice was the best.\tJ. A. Prado Lima, G. Guizzo, S. R. Vergilio, A. P. C. Silva, H. L. J. Filho, H. V. Ehrenfried, Evaluating different strategies for reduction of mutation testing costs, in: Proceedings of the 1st Brazilian Symposium on Systematic and Automated Software Testing, SAST, ACM, Maringa, Brazil, 2016, pp. 4:1–4:10.\t2016-09-SAST\thttps://dl.acm.org/citation.cfm?id=2993292"
     ]
    }
   ],
   "source": [
    "!cat publications.tsv"
   ]
  },
  {
   "cell_type": "markdown",
   "metadata": {},
   "source": [
    "## Import pandas\n",
    "\n",
    "We are using the very handy pandas library for dataframes."
   ]
  },
  {
   "cell_type": "code",
   "execution_count": 2,
   "metadata": {},
   "outputs": [],
   "source": [
    "import pandas as pd"
   ]
  },
  {
   "cell_type": "markdown",
   "metadata": {},
   "source": [
    "## Import TSV\n",
    "\n",
    "Pandas makes this easy with the read_csv function. We are using a TSV, so we specify the separator as a tab, or `\\t`.\n",
    "\n",
    "I found it important to put this data in a tab-separated values format, because there are a lot of commas in this kind of data and comma-separated values can get messed up. However, you can modify the import statement, as pandas also has read_excel(), read_json(), and others."
   ]
  },
  {
   "cell_type": "code",
   "execution_count": 37,
   "metadata": {},
   "outputs": [
    {
     "data": {
      "text/html": [
       "<div>\n",
       "<style>\n",
       "    .dataframe thead tr:only-child th {\n",
       "        text-align: right;\n",
       "    }\n",
       "\n",
       "    .dataframe thead th {\n",
       "        text-align: left;\n",
       "    }\n",
       "\n",
       "    .dataframe tbody tr th {\n",
       "        vertical-align: top;\n",
       "    }\n",
       "</style>\n",
       "<table border=\"1\" class=\"dataframe\">\n",
       "  <thead>\n",
       "    <tr style=\"text-align: right;\">\n",
       "      <th></th>\n",
       "      <th>pub_date</th>\n",
       "      <th>title</th>\n",
       "      <th>venue</th>\n",
       "      <th>excerpt</th>\n",
       "      <th>citation</th>\n",
       "      <th>url_slug</th>\n",
       "      <th>paper_url</th>\n",
       "      <th>doi</th>\n",
       "      <th>paper_url_rg</th>\n",
       "    </tr>\n",
       "  </thead>\n",
       "  <tbody>\n",
       "    <tr>\n",
       "      <th>0</th>\n",
       "      <td>2016-09-01</td>\n",
       "      <td>Evaluating Different Strategies for Reduction ...</td>\n",
       "      <td>Proceedings of the 1st Brazilian Symposium on ...</td>\n",
       "      <td>Mutation testing presents high efficacy in ter...</td>\n",
       "      <td>J. A. Prado Lima, G. Guizzo, S. R. Vergilio, A...</td>\n",
       "      <td>2016-09-SAST</td>\n",
       "      <td>https://dl.acm.org/citation.cfm?id=2993292</td>\n",
       "      <td>10.1145/2993288.2993292</td>\n",
       "      <td>https://www.researchgate.net/publication/30805...</td>\n",
       "    </tr>\n",
       "    <tr>\n",
       "      <th>1</th>\n",
       "      <td>2017-09-20</td>\n",
       "      <td>Automatic Generation of Search-Based Algorithm...</td>\n",
       "      <td>Proceedings of the 31st Brazilian Symposium on...</td>\n",
       "      <td>The selection of products for the variability ...</td>\n",
       "      <td>Helson L. Jakubovski Filho, Jackson A. Prado L...</td>\n",
       "      <td>2017-09-SBES</td>\n",
       "      <td>https://dl.acm.org/citation.cfm?doid=3131151.3...</td>\n",
       "      <td>10.1145/3131151.3131152</td>\n",
       "      <td>https://www.researchgate.net/publication/31989...</td>\n",
       "    </tr>\n",
       "    <tr>\n",
       "      <th>2</th>\n",
       "      <td>2017-09-19</td>\n",
       "      <td>A Multi-objective optimization approach for se...</td>\n",
       "      <td>Proceedings of the 2nd Brazilian Symposium on ...</td>\n",
       "      <td>The use of Higher-Order Mutants (HOMs) present...</td>\n",
       "      <td>J. A. Prado Lima, S. R. Vergilio, A Multi-obje...</td>\n",
       "      <td>2017-09-SAST</td>\n",
       "      <td>https://dl.acm.org/citation.cfm?doid=3128473.3...</td>\n",
       "      <td>10.1145/3128473.3128479</td>\n",
       "      <td>https://www.researchgate.net/publication/31943...</td>\n",
       "    </tr>\n",
       "    <tr>\n",
       "      <th>3</th>\n",
       "      <td>2016-08-01</td>\n",
       "      <td>Deriving Products for Variability Test of Feat...</td>\n",
       "      <td>Applied Soft Computing</td>\n",
       "      <td>Deriving products from a Feature Model (FM) fo...</td>\n",
       "      <td>A. Strickler, J. A. Prado Lima, S. R. Vergilio...</td>\n",
       "      <td>2016-05-ASOC</td>\n",
       "      <td>https://www.sciencedirect.com/science/article/...</td>\n",
       "      <td>10.1016/j.asoc.2016.07.059</td>\n",
       "      <td>https://www.researchgate.net/publication/30608...</td>\n",
       "    </tr>\n",
       "    <tr>\n",
       "      <th>4</th>\n",
       "      <td>2017-05-01</td>\n",
       "      <td>Hyper-Heuristic Based Product Selection for So...</td>\n",
       "      <td>IEEE Computational Intelligence Magazine</td>\n",
       "      <td>A Software Product Line (SPL) is defined as a ...</td>\n",
       "      <td>T. N. Ferreira, J. A. Prado Lima, A. Strickler...</td>\n",
       "      <td>2017-05-IEEECIM</td>\n",
       "      <td>https://ieeexplore.ieee.org/document/7895294/</td>\n",
       "      <td>10.1109/MCI.2017.2670461</td>\n",
       "      <td>https://www.researchgate.net/publication/31646...</td>\n",
       "    </tr>\n",
       "  </tbody>\n",
       "</table>\n",
       "</div>"
      ],
      "text/plain": [
       "     pub_date                                              title  \\\n",
       "0  2016-09-01  Evaluating Different Strategies for Reduction ...   \n",
       "1  2017-09-20  Automatic Generation of Search-Based Algorithm...   \n",
       "2  2017-09-19  A Multi-objective optimization approach for se...   \n",
       "3  2016-08-01  Deriving Products for Variability Test of Feat...   \n",
       "4  2017-05-01  Hyper-Heuristic Based Product Selection for So...   \n",
       "\n",
       "                                               venue  \\\n",
       "0  Proceedings of the 1st Brazilian Symposium on ...   \n",
       "1  Proceedings of the 31st Brazilian Symposium on...   \n",
       "2  Proceedings of the 2nd Brazilian Symposium on ...   \n",
       "3                             Applied Soft Computing   \n",
       "4           IEEE Computational Intelligence Magazine   \n",
       "\n",
       "                                             excerpt  \\\n",
       "0  Mutation testing presents high efficacy in ter...   \n",
       "1  The selection of products for the variability ...   \n",
       "2  The use of Higher-Order Mutants (HOMs) present...   \n",
       "3  Deriving products from a Feature Model (FM) fo...   \n",
       "4  A Software Product Line (SPL) is defined as a ...   \n",
       "\n",
       "                                            citation         url_slug  \\\n",
       "0  J. A. Prado Lima, G. Guizzo, S. R. Vergilio, A...     2016-09-SAST   \n",
       "1  Helson L. Jakubovski Filho, Jackson A. Prado L...     2017-09-SBES   \n",
       "2  J. A. Prado Lima, S. R. Vergilio, A Multi-obje...     2017-09-SAST   \n",
       "3  A. Strickler, J. A. Prado Lima, S. R. Vergilio...     2016-05-ASOC   \n",
       "4  T. N. Ferreira, J. A. Prado Lima, A. Strickler...  2017-05-IEEECIM   \n",
       "\n",
       "                                           paper_url  \\\n",
       "0         https://dl.acm.org/citation.cfm?id=2993292   \n",
       "1  https://dl.acm.org/citation.cfm?doid=3131151.3...   \n",
       "2  https://dl.acm.org/citation.cfm?doid=3128473.3...   \n",
       "3  https://www.sciencedirect.com/science/article/...   \n",
       "4      https://ieeexplore.ieee.org/document/7895294/   \n",
       "\n",
       "                          doi  \\\n",
       "0     10.1145/2993288.2993292   \n",
       "1     10.1145/3131151.3131152   \n",
       "2     10.1145/3128473.3128479   \n",
       "3  10.1016/j.asoc.2016.07.059   \n",
       "4    10.1109/MCI.2017.2670461   \n",
       "\n",
       "                                        paper_url_rg  \n",
       "0  https://www.researchgate.net/publication/30805...  \n",
       "1  https://www.researchgate.net/publication/31989...  \n",
       "2  https://www.researchgate.net/publication/31943...  \n",
       "3  https://www.researchgate.net/publication/30608...  \n",
       "4  https://www.researchgate.net/publication/31646...  "
      ]
     },
     "execution_count": 37,
     "metadata": {},
     "output_type": "execute_result"
    }
   ],
   "source": [
    "publications = pd.read_csv(\"publications.csv\", sep=\";\", header=0)\n",
    "publications\n"
   ]
  },
  {
   "cell_type": "markdown",
   "metadata": {},
   "source": [
    "## Escape special characters\n",
    "\n",
    "YAML is very picky about how it takes a valid string, so we are replacing single and double quotes (and ampersands) with their HTML encoded equivilents. This makes them look not so readable in raw format, but they are parsed and rendered nicely."
   ]
  },
  {
   "cell_type": "code",
   "execution_count": 38,
   "metadata": {},
   "outputs": [],
   "source": [
    "html_escape_table = {\n",
    "    \"&\": \"&amp;\",\n",
    "    '\"': \"&quot;\",\n",
    "    \"'\": \"&apos;\"\n",
    "    }\n",
    "\n",
    "def html_escape(text):\n",
    "    \"\"\"Produce entities within text.\"\"\"\n",
    "    return \"\".join(html_escape_table.get(c,c) for c in text)"
   ]
  },
  {
   "cell_type": "markdown",
   "metadata": {},
   "source": [
    "## Creating the markdown files\n",
    "\n",
    "This is where the heavy lifting is done. This loops through all the rows in the TSV dataframe, then starts to concatentate a big string (```md```) that contains the markdown for each type. It does the YAML metadata first, then does the description for the individual page."
   ]
  },
  {
   "cell_type": "code",
   "execution_count": 39,
   "metadata": {},
   "outputs": [],
   "source": [
    "import os\n",
    "for row, item in publications.iterrows():\n",
    "    \n",
    "    md_filename = item.url_slug + \".md\"\n",
    "    html_filename = item.url_slug\n",
    "    year = item.pub_date[:4]\n",
    "    \n",
    "    ## YAML variables\n",
    "    \n",
    "    md = \"---\\ntitle: \\\"\"   + item.title + '\"\\n'\n",
    "    \n",
    "    md += \"\"\"collection: publications\"\"\"\n",
    "    \n",
    "    md += \"\"\"\\npermalink: /publication/\"\"\" + html_filename\n",
    "    \n",
    "    if len(str(item.excerpt)) > 5:\n",
    "        md += \"\\nexcerpt: '\" + html_escape(item.excerpt) + \"'\"\n",
    "    \n",
    "    md += \"\\ndate: \" + str(item.pub_date) \n",
    "    \n",
    "    md += \"\\nvenue: '\" + html_escape(item.venue) + \"'\"\n",
    "    \n",
    "    if len(str(item.paper_url)) > 5:\n",
    "        md += \"\\npaperurl: '\" + item.paper_url + \"'\"\n",
    "    \n",
    "    md += \"\\ncitation: '\" + html_escape(item.citation) + \"'\"\n",
    "    \n",
    "    md += \"\\n---\"\n",
    "    \n",
    "    ## Markdown description for individual page\n",
    "    md += \"\\nDOI: \" + str(item.doi) + \"\\n\"\n",
    "    \n",
    "    if len(str(item.excerpt)) > 5:\n",
    "        md += \"\\nAbstract\\n===\"\n",
    "        md += \"\\n\" + html_escape(item.excerpt) + \"\\n\"\n",
    "    \n",
    "    if len(str(item.paper_url_rg)) > 5:\n",
    "        md += \"\\nSee this paper on [Research Gate <i class=\\\"ai ai-researchgate\\\"></i>](\" + item.paper_url_rg + \")\\n\" \n",
    "        \n",
    "    if len(str(item.paper_url)) > 5:\n",
    "        md += \"\\n[Download paper here](\" + item.paper_url + \")\\n\" \n",
    "        \n",
    "    md += \"\\nRecommended citation: \" + item.citation\n",
    "    \n",
    "    md_filename = os.path.basename(md_filename)\n",
    "       \n",
    "    with open(\"../_publications/\" + md_filename, 'w') as f:\n",
    "        f.write(md)"
   ]
  },
  {
   "cell_type": "markdown",
   "metadata": {},
   "source": [
    "These files are in the publications directory, one directory below where we're working from."
   ]
  },
  {
   "cell_type": "code",
   "execution_count": 40,
   "metadata": {},
   "outputs": [
    {
     "name": "stdout",
     "output_type": "stream",
     "text": [
      "2016-05-ASOC.md  2017-05-IEEECIM.md  2017-09-SBES.md\r\n",
      "2016-09-SAST.md  2017-09-SAST.md\r\n"
     ]
    }
   ],
   "source": [
    "!ls ../_publications/"
   ]
  },
  {
   "cell_type": "code",
   "execution_count": 7,
   "metadata": {},
   "outputs": [
    {
     "name": "stdout",
     "output_type": "stream",
     "text": [
      "---\r\n",
      "title: \"Paper Title Number 1\"\r\n",
      "collection: publications\r\n",
      "permalink: /publication/2009-10-01-paper-title-number-1\r\n",
      "excerpt: 'This paper is about the number 1. The number 2 is left for future work.'\r\n",
      "date: 2009-10-01\r\n",
      "venue: 'Journal 1'\r\n",
      "paperurl: 'http://academicpages.github.io/files/paper1.pdf'\r\n",
      "citation: 'Your Name, You. (2009). &quot;Paper Title Number 1.&quot; <i>Journal 1</i>. 1(1).'\r\n",
      "---\r\n",
      "This paper is about the number 1. The number 2 is left for future work.\r\n",
      "\r\n",
      "[Download paper here](http://academicpages.github.io/files/paper1.pdf)\r\n",
      "\r\n",
      "Recommended citation: Your Name, You. (2009). \"Paper Title Number 1.\" <i>Journal 1</i>. 1(1)."
     ]
    }
   ],
   "source": [
    "!cat ../_publications/2009-10-01-paper-title-number-1.md"
   ]
  },
  {
   "cell_type": "code",
   "execution_count": null,
   "metadata": {
    "collapsed": true
   },
   "outputs": [],
   "source": []
  }
 ],
 "metadata": {
  "kernelspec": {
   "display_name": "Python 3",
   "language": "python",
   "name": "python3"
  },
  "language_info": {
   "codemirror_mode": {
    "name": "ipython",
    "version": 3
   },
   "file_extension": ".py",
   "mimetype": "text/x-python",
   "name": "python",
   "nbconvert_exporter": "python",
   "pygments_lexer": "ipython3",
   "version": "3.6.4"
  }
 },
 "nbformat": 4,
 "nbformat_minor": 1
}
